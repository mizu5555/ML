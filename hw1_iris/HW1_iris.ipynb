{
 "cells": [
  {
   "cell_type": "code",
   "execution_count": 1,
   "metadata": {},
   "outputs": [],
   "source": [
    "import numpy as np\n",
    "import matplotlib.pyplot as plt\n",
    "import csv\n",
    "import pandas as pd\n"
   ]
  },
  {
   "cell_type": "code",
   "execution_count": 2,
   "metadata": {},
   "outputs": [],
   "source": [
    "iris_in = np.genfromtxt('iris_in.csv', delimiter=',', names=None)\n",
    "iris_out = np.genfromtxt('iris_out.csv', delimiter=',', names=None)\n",
    "rmse_history = []"
   ]
  },
  {
   "cell_type": "code",
   "execution_count": 3,
   "metadata": {},
   "outputs": [],
   "source": [
    "# 切分訓練集和測試集(25:75)\n",
    "X = iris_in[:150]\n",
    "y = iris_out[:150]\n",
    "X_train = X[:75]\n",
    "y_train = y[:75]\n",
    "X_test = X[75:]\n",
    "y_test = y[75:]"
   ]
  },
  {
   "cell_type": "code",
   "execution_count": 4,
   "metadata": {},
   "outputs": [],
   "source": [
    "# 包含輸入維度, 隱藏層維度, 輸入維度, 輸出維度, 學習率, 訓練次數\n",
    "np.random.seed(0)\n",
    "input_dim = X_train.shape[1]\n",
    "hidden_dim = 5\n",
    "output_dim = 1\n",
    "lr = 0.01\n",
    "epochs = 1000\n",
    "\n",
    "# 初始話權重(-1~1)和誤差\n",
    "weights_input_hidden = np.random.rand(input_dim, hidden_dim) * 2 - 1\n",
    "bias_hidden = np.zeros((1, hidden_dim))\n",
    "weights_hidden_output = np.random.rand(hidden_dim, output_dim) * 2 - 1\n",
    "bias_output = np.zeros((1, output_dim))"
   ]
  },
  {
   "cell_type": "code",
   "execution_count": 5,
   "metadata": {},
   "outputs": [],
   "source": [
    "# 定義 sigmoid 函數\n",
    "def sigmoid(x):\n",
    "    return 1 / (1 + np.exp(-x))\n",
    "\n",
    "def sigmoid_derivative(x):\n",
    "    return x * (1 - x)"
   ]
  },
  {
   "cell_type": "code",
   "execution_count": 6,
   "metadata": {},
   "outputs": [],
   "source": [
    "for epoch in range(epochs):\n",
    "    # Forward pass\n",
    "    hidden_layer_input = np.dot(X_train, weights_input_hidden) + bias_hidden\n",
    "    hidden_layer_output = sigmoid(hidden_layer_input)\n",
    "    \n",
    "    output_layer_input = np.dot(hidden_layer_output, weights_hidden_output) + bias_output\n",
    "    predicted_output = sigmoid(output_layer_input)\n",
    "    \n",
    "    # Compute RMSE\n",
    "    rmse = np.sqrt(np.mean((predicted_output - y_train.reshape(-1, 1))**2))\n",
    "    rmse_history.append(rmse)\n",
    "    \n",
    "    # Backpropagation\n",
    "    error = y_train.reshape(-1, 1) - predicted_output\n",
    "    d_predicted_output = error * sigmoid_derivative(predicted_output)\n",
    "    \n",
    "    error_hidden_layer = d_predicted_output.dot(weights_hidden_output.T)\n",
    "    d_hidden_layer = error_hidden_layer * sigmoid_derivative(hidden_layer_output)\n",
    "    \n",
    "    # Updating weights and biases\n",
    "    weights_hidden_output += hidden_layer_output.T.dot(d_predicted_output) * lr\n",
    "    bias_output += np.sum(d_predicted_output, axis=0, keepdims=True) * lr\n",
    "    \n",
    "    weights_input_hidden += X_train.T.dot(d_hidden_layer) * lr\n",
    "    bias_hidden += np.sum(d_hidden_layer, axis=0, keepdims=True) * lr"
   ]
  },
  {
   "cell_type": "code",
   "execution_count": 7,
   "metadata": {},
   "outputs": [
    {
     "data": {
      "image/png": "[encoded data removed]",
      "text/plain": [
       "<Figure size 640x480 with 1 Axes>"
      ]
     },
     "metadata": {},
     "output_type": "display_data"
    }
   ],
   "source": [
    "plt.plot(range(epochs), rmse_history)\n",
    "plt.xlabel('Epoch')\n",
    "plt.ylabel('RMSE')\n",
    "plt.title('RMSE vs Epoch')\n",
    "plt.show()"
   ]
  },
  {
   "cell_type": "code",
   "execution_count": 8,
   "metadata": {},
   "outputs": [
    {
     "name": "stdout",
     "output_type": "stream",
     "text": [
      "Test Accuracy: 33.33%\n"
     ]
    }
   ],
   "source": [
    "# 測試集\n",
    "hidden_layer_input = np.dot(X_test, weights_input_hidden) + bias_hidden\n",
    "hidden_layer_output = sigmoid(hidden_layer_input)\n",
    "output_layer_input = np.dot(hidden_layer_output, weights_hidden_output) + bias_output\n",
    "predicted_output = sigmoid(output_layer_input)\n",
    "\n",
    "predicted_classes = (predicted_output > 0.5).astype(int).flatten()\n",
    "\n",
    "# 計算正確率\n",
    "accuracy = np.mean(predicted_classes == y_test)\n",
    "print(f'Test Accuracy: {accuracy * 100:.2f}%')"
   ]
  }
 ],
 "metadata": {
  "kernelspec": {
   "display_name": "Python 3",
   "language": "python",
   "name": "python3"
  },
  "language_info": {
   "codemirror_mode": {
    "name": "ipython",
    "version": 3
   },
   "file_extension": ".py",
   "mimetype": "text/x-python",
   "name": "python",
   "nbconvert_exporter": "python",
   "pygments_lexer": "ipython3",
   "version": "3.9.17"
  }
 },
 "nbformat": 4,
 "nbformat_minor": 2
}
